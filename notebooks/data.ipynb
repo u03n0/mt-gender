{
 "cells": [
  {
   "cell_type": "markdown",
   "metadata": {},
   "source": [
    "## Data Exploration"
   ]
  },
  {
   "cell_type": "code",
   "execution_count": 20,
   "metadata": {},
   "outputs": [],
   "source": [
    "import pandas as pd"
   ]
  },
  {
   "cell_type": "code",
   "execution_count": 21,
   "metadata": {},
   "outputs": [
    {
     "data": {
      "text/html": [
       "<div>\n",
       "<style scoped>\n",
       "    .dataframe tbody tr th:only-of-type {\n",
       "        vertical-align: middle;\n",
       "    }\n",
       "\n",
       "    .dataframe tbody tr th {\n",
       "        vertical-align: top;\n",
       "    }\n",
       "\n",
       "    .dataframe thead th {\n",
       "        text-align: right;\n",
       "    }\n",
       "</style>\n",
       "<table border=\"1\" class=\"dataframe\">\n",
       "  <thead>\n",
       "    <tr style=\"text-align: right;\">\n",
       "      <th></th>\n",
       "      <th>label1</th>\n",
       "      <th>label2</th>\n",
       "      <th>text1</th>\n",
       "      <th>text2</th>\n",
       "    </tr>\n",
       "  </thead>\n",
       "  <tbody>\n",
       "    <tr>\n",
       "      <th>0</th>\n",
       "      <td>deu</td>\n",
       "      <td>por</td>\n",
       "      <td>Es ging alles so schnell, dass wir keine Zeit ...</td>\n",
       "      <td>Tudo se passou tão rapidamente que não tivemos...</td>\n",
       "    </tr>\n",
       "    <tr>\n",
       "      <th>1</th>\n",
       "      <td>deu</td>\n",
       "      <td>por</td>\n",
       "      <td>Kinder finden immer einen Grund, Freundschafte...</td>\n",
       "      <td>As crianças sempre encontram um motivo para tr...</td>\n",
       "    </tr>\n",
       "    <tr>\n",
       "      <th>2</th>\n",
       "      <td>deu</td>\n",
       "      <td>por</td>\n",
       "      <td>Wir haben gestern Fußball gespielt.</td>\n",
       "      <td>Ontem jogamos futebol.</td>\n",
       "    </tr>\n",
       "  </tbody>\n",
       "</table>\n",
       "</div>"
      ],
      "text/plain": [
       "  label1 label2                                              text1  \\\n",
       "0    deu    por  Es ging alles so schnell, dass wir keine Zeit ...   \n",
       "1    deu    por  Kinder finden immer einen Grund, Freundschafte...   \n",
       "2    deu    por                Wir haben gestern Fußball gespielt.   \n",
       "\n",
       "                                               text2  \n",
       "0  Tudo se passou tão rapidamente que não tivemos...  \n",
       "1  As crianças sempre encontram um motivo para tr...  \n",
       "2                             Ontem jogamos futebol.  "
      ]
     },
     "execution_count": 21,
     "metadata": {},
     "output_type": "execute_result"
    }
   ],
   "source": [
    "df = pd.read_csv(\"../data/tatoeba-test-v2020-07-28.deu-por.txt\", sep=\"\\t\", names=['label1', 'label2', 'text1', 'text2'])\n",
    "df.head(3)"
   ]
  },
  {
   "cell_type": "code",
   "execution_count": 22,
   "metadata": {},
   "outputs": [
    {
     "name": "stdout",
     "output_type": "stream",
     "text": [
      "  label1                                              text1\n",
      "0    deu  Es ging alles so schnell, dass wir keine Zeit ...\n",
      "1    deu  Kinder finden immer einen Grund, Freundschafte...\n",
      "2    deu                Wir haben gestern Fußball gespielt.\n"
     ]
    },
    {
     "data": {
      "text/html": [
       "<div>\n",
       "<style scoped>\n",
       "    .dataframe tbody tr th:only-of-type {\n",
       "        vertical-align: middle;\n",
       "    }\n",
       "\n",
       "    .dataframe tbody tr th {\n",
       "        vertical-align: top;\n",
       "    }\n",
       "\n",
       "    .dataframe thead th {\n",
       "        text-align: right;\n",
       "    }\n",
       "</style>\n",
       "<table border=\"1\" class=\"dataframe\">\n",
       "  <thead>\n",
       "    <tr style=\"text-align: right;\">\n",
       "      <th></th>\n",
       "      <th>label2</th>\n",
       "      <th>text2</th>\n",
       "    </tr>\n",
       "  </thead>\n",
       "  <tbody>\n",
       "    <tr>\n",
       "      <th>0</th>\n",
       "      <td>por</td>\n",
       "      <td>Tudo se passou tão rapidamente que não tivemos...</td>\n",
       "    </tr>\n",
       "    <tr>\n",
       "      <th>1</th>\n",
       "      <td>por</td>\n",
       "      <td>As crianças sempre encontram um motivo para tr...</td>\n",
       "    </tr>\n",
       "    <tr>\n",
       "      <th>2</th>\n",
       "      <td>por</td>\n",
       "      <td>Ontem jogamos futebol.</td>\n",
       "    </tr>\n",
       "  </tbody>\n",
       "</table>\n",
       "</div>"
      ],
      "text/plain": [
       "  label2                                              text2\n",
       "0    por  Tudo se passou tão rapidamente que não tivemos...\n",
       "1    por  As crianças sempre encontram um motivo para tr...\n",
       "2    por                             Ontem jogamos futebol."
      ]
     },
     "execution_count": 22,
     "metadata": {},
     "output_type": "execute_result"
    }
   ],
   "source": [
    "src_df = df[['label1', 'text1']]\n",
    "print(src_df.head(3))\n",
    "tgt_df = df[['label2', 'text2']]\n",
    "tgt_df.head(3)"
   ]
  }
 ],
 "metadata": {
  "kernelspec": {
   "display_name": "mt-gender-nU9SuBFu",
   "language": "python",
   "name": "python3"
  },
  "language_info": {
   "codemirror_mode": {
    "name": "ipython",
    "version": 3
   },
   "file_extension": ".py",
   "mimetype": "text/x-python",
   "name": "python",
   "nbconvert_exporter": "python",
   "pygments_lexer": "ipython3",
   "version": "3.10.12"
  }
 },
 "nbformat": 4,
 "nbformat_minor": 2
}
